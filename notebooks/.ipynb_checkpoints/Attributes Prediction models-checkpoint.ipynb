{
 "cells": [
  {
   "cell_type": "code",
   "execution_count": 3,
   "metadata": {
    "ExecuteTime": {
     "end_time": "2020-06-16T03:44:33.123440Z",
     "start_time": "2020-06-16T03:44:19.113689Z"
    }
   },
   "outputs": [
    {
     "name": "stderr",
     "output_type": "stream",
     "text": [
      "/Users/afrah/miniconda3/envs/test/lib/python3.7/site-packages/librosa/util/decorators.py:9: NumbaDeprecationWarning: An import was requested from a module that has moved location.\n",
      "Import requested from: 'numba.decorators', please update to use 'numba.core.decorators' or pin to Numba version 0.48.0. This alias will not be present in Numba version 0.50.0.\n",
      "  from numba.decorators import jit as optional_jit\n",
      "/Users/afrah/miniconda3/envs/test/lib/python3.7/site-packages/librosa/util/decorators.py:9: NumbaDeprecationWarning: An import was requested from a module that has moved location.\n",
      "Import of 'jit' requested from: 'numba.decorators', please update to use 'numba.core.decorators' or pin to Numba version 0.48.0. This alias will not be present in Numba version 0.50.0.\n",
      "  from numba.decorators import jit as optional_jit\n",
      "Using TensorFlow backend.\n"
     ]
    }
   ],
   "source": [
    "import re\n",
    "import os\n",
    "import random\n",
    "import xgboost\n",
    "import sys\n",
    "import math\n",
    "import keras\n",
    "import joblib\n",
    "\n",
    "import numpy as np\n",
    "import pandas as pd\n",
    "import seaborn as sns\n",
    "import sklearn.metrics\n",
    "import matplotlib.pyplot as plt\n",
    "\n",
    "from sklearn.metrics import ConfusionMatrixDisplay\n",
    "from sklearn.tree import DecisionTreeClassifier\n",
    "from sklearn.model_selection import train_test_split\n",
    "from sklearn.linear_model import LinearRegression\n",
    "\n",
    "import keras.backend as K\n",
    "from keras.layers import Activation\n",
    "from keras.layers import BatchNormalization\n",
    "from keras.models import Sequential\n",
    "from keras.layers import Dense, Dropout, Flatten, Conv2D, MaxPooling2D\n",
    "from keras.utils import to_categorical\n"
   ]
  },
  {
   "cell_type": "code",
   "execution_count": 22,
   "metadata": {
    "ExecuteTime": {
     "end_time": "2020-06-16T03:24:12.902624Z",
     "start_time": "2020-06-16T03:24:12.039958Z"
    }
   },
   "outputs": [
    {
     "name": "stderr",
     "output_type": "stream",
     "text": [
      "/Users/afrah/miniconda3/envs/test/lib/python3.7/site-packages/IPython/core/interactiveshell.py:3063: DtypeWarning: Columns (281,288,289,290) have mixed types.Specify dtype option on import or set low_memory=False.\n",
      "  interactivity=interactivity, compiler=compiler, result=result)\n"
     ]
    }
   ],
   "source": [
    "training_df = pd.read_csv('../data/training_data.csv')"
   ]
  },
  {
   "cell_type": "code",
   "execution_count": 23,
   "metadata": {
    "ExecuteTime": {
     "end_time": "2020-06-16T03:24:12.922228Z",
     "start_time": "2020-06-16T03:24:12.906450Z"
    }
   },
   "outputs": [],
   "source": [
    "feature_names = ['chroma' + str(i) for i in np.arange(12)] + [\n",
    "    'mfcc' + str(i) for i in np.arange(20)\n",
    "] + ['poly' + str(i) for i in np.arange(11)] + ['s_bw', 'spec_cen'] + [\n",
    "    'spec_cnst' + str(i) for i in np.arange(7)\n",
    "] + ['spec_flat', 'spec_rolloff', 'rms', 'zcr']\n",
    "all_feature_names = []\n",
    "\n",
    "for j in ['mean', 'median', 'min', 'max', 'var']:\n",
    "    all_feature_names += [str.join('_', [j, i]) for i in feature_names]\n",
    "\n",
    "assert (len(all_feature_names) == 280)"
   ]
  },
  {
   "cell_type": "code",
   "execution_count": 4,
   "metadata": {
    "ExecuteTime": {
     "end_time": "2020-06-16T00:38:13.639418Z",
     "start_time": "2020-06-16T00:38:13.601860Z"
    }
   },
   "outputs": [],
   "source": [
    "random.seed(42)\n",
    "all_actors = training_df.Actor.unique()\n",
    "random.shuffle(all_actors)\n",
    "train_actors = random.sample(list(all_actors), 95)\n",
    "test_actors = [i for i in all_actors if i not in train_actors]\n",
    "valid_actors = test_actors[-10:]\n",
    "test_actors = test_actors[:10]"
   ]
  },
  {
   "cell_type": "code",
   "execution_count": 5,
   "metadata": {
    "ExecuteTime": {
     "end_time": "2020-06-16T00:38:13.738205Z",
     "start_time": "2020-06-16T00:38:13.664901Z"
    }
   },
   "outputs": [],
   "source": [
    "train_indices = training_df.Actor.isin(\n",
    "    train_actors\n",
    ")  #np.sum(np.array([X_dums['Actor_'+i] for i in train_actors]),axis=0)>0\n",
    "test_indices = training_df.Actor.isin(\n",
    "    test_actors\n",
    ")  #np.sum(np.array([X_dums['Actor_'+i] for i in test_actors]),axis=0)>0\n",
    "valid_indices = training_df.Actor.isin(\n",
    "    valid_actors\n",
    ")  #np.sum(np.array([X_dums['Actor_'+i] for i in valid_actors]),axis=0)>0\n",
    "\n",
    "X_train = training_df[all_feature_names][train_indices]  #[train_indices]\n",
    "X_test = training_df[all_feature_names][test_indices]  #X_dums[test_indices]\n",
    "X_valid = training_df[all_feature_names][valid_indices]  #X_dums[valid_indices]\n",
    "\n",
    "y_train = training_df.Sex[train_indices]\n",
    "y_test = training_df.Sex[test_indices]\n",
    "y_valid = training_df.Sex[valid_indices]"
   ]
  },
  {
   "cell_type": "markdown",
   "metadata": {},
   "source": [
    "# Sex prediction: RForest"
   ]
  },
  {
   "cell_type": "code",
   "execution_count": null,
   "metadata": {
    "ExecuteTime": {
     "end_time": "2020-06-14T01:54:34.527711Z",
     "start_time": "2020-06-14T01:54:34.523665Z"
    }
   },
   "outputs": [],
   "source": [
    "## Insert Optimization here"
   ]
  },
  {
   "cell_type": "code",
   "execution_count": null,
   "metadata": {
    "ExecuteTime": {
     "end_time": "2020-06-14T01:54:42.091650Z",
     "start_time": "2020-06-14T01:54:34.723267Z"
    }
   },
   "outputs": [],
   "source": [
    "sex_rf = sklearn.ensemble.RandomForestClassifier().fit(X_train, y_train)"
   ]
  },
  {
   "cell_type": "code",
   "execution_count": null,
   "metadata": {
    "ExecuteTime": {
     "end_time": "2020-06-14T01:54:42.699562Z",
     "start_time": "2020-06-14T01:54:42.094670Z"
    }
   },
   "outputs": [],
   "source": [
    "y_pred_test = sex_rf.predict(X_test)\n",
    "y_pred_valid = sex_rf.predict(X_valid)\n",
    "fig, ax = plt.subplots(figsize=(20, 10))\n",
    "sklearn.metrics.plot_confusion_matrix(sex_rf,\n",
    "                                      X_valid,\n",
    "                                      y_valid,\n",
    "                                      xticks_rotation=30,\n",
    "                                      ax=ax)\n",
    "\n",
    "cm = sklearn.metrics.confusion_matrix(y_valid, y_pred_valid)\n",
    "\n",
    "fpr, tpr, _ = sklearn.metrics.roc_curve(\n",
    "    np.array(pd.get_dummies(y_valid)['Female']),\n",
    "    np.array(pd.get_dummies(y_pred_valid)['Female']))\n",
    "print('AUC: ', sklearn.metrics.auc(fpr, tpr))\n",
    "print('Precision - Female: ',\n",
    "    sklearn.metrics.precision_score(\n",
    "        np.array(pd.get_dummies(y_valid)['Female']),\n",
    "        np.array(pd.get_dummies(y_pred_valid)['Female'])))\n",
    "\n",
    "fpr, tpr, _ = sklearn.metrics.roc_curve(\n",
    "    np.array(pd.get_dummies(y_valid)['Male']),\n",
    "    np.array(pd.get_dummies(y_pred_valid)['Male']))\n",
    "print(\n",
    "    'Precision - Male: ',\n",
    "    sklearn.metrics.precision_score(\n",
    "        np.array(pd.get_dummies(y_valid)['Male']),\n",
    "        np.array(pd.get_dummies(y_pred_valid)['Male'])))"
   ]
  },
  {
   "cell_type": "code",
   "execution_count": null,
   "metadata": {
    "ExecuteTime": {
     "end_time": "2020-06-14T01:54:43.034091Z",
     "start_time": "2020-06-14T01:54:42.704375Z"
    }
   },
   "outputs": [],
   "source": [
    "(pd.Series(reg_rf.feature_importances_,\n",
    "           index=X_train.columns).nlargest(10).plot(kind='barh'))"
   ]
  },
  {
   "cell_type": "markdown",
   "metadata": {},
   "source": [
    "# Predict sex of Maslo entries"
   ]
  },
  {
   "cell_type": "code",
   "execution_count": null,
   "metadata": {
    "ExecuteTime": {
     "end_time": "2020-06-14T01:54:43.206020Z",
     "start_time": "2020-06-14T01:54:43.039637Z"
    }
   },
   "outputs": [],
   "source": [
    "journals_merged = pd.read_csv('../data/journals_merged.csv')"
   ]
  },
  {
   "cell_type": "code",
   "execution_count": null,
   "metadata": {
    "ExecuteTime": {
     "end_time": "2020-06-14T01:54:43.217471Z",
     "start_time": "2020-06-14T01:54:43.208748Z"
    }
   },
   "outputs": [],
   "source": [
    "X = journals_merged.drop(\n",
    "    columns=['sentiment', 'recordingname', 'feature_filename', 'journal'])\n",
    "sentiment = journals_merged['sentiment']"
   ]
  },
  {
   "cell_type": "code",
   "execution_count": null,
   "metadata": {
    "ExecuteTime": {
     "end_time": "2020-06-14T01:54:43.301071Z",
     "start_time": "2020-06-14T01:54:43.221854Z"
    }
   },
   "outputs": [],
   "source": [
    "journals_merged['sex_predicted'] = sex_rf.predict(X)"
   ]
  },
  {
   "cell_type": "markdown",
   "metadata": {},
   "source": [
    "# Gender stratified prediction model"
   ]
  },
  {
   "cell_type": "code",
   "execution_count": 1,
   "metadata": {
    "ExecuteTime": {
     "end_time": "2020-06-16T03:44:14.988151Z",
     "start_time": "2020-06-16T03:44:13.928022Z"
    }
   },
   "outputs": [],
   "source": [
    "def get_precision(y_pred, y_true):\n",
    "    #1-0=1=fn; 1-1=0=tp;0-1=-1=fp;0-0=0tn;\n",
    "    #1+0=1=fn; 1+1=2=tp;0+1=1=fp;0+0=0tn;\n",
    "    #true-pred\n",
    "    precision = []\n",
    "    tpr = []\n",
    "    accuracy = []\n",
    "    auc = []\n",
    "    \n",
    "    for i in np.arange(y_true.shape[1]):\n",
    "        print(i)\n",
    "        y_pred_i = y_pred[:,i]\n",
    "        y_true_i = y_true[:,i]\n",
    "        fpr, tr, _ = sklearn.metrics.roc_curve(y_true_i,\n",
    "                                                     y_pred_i,\n",
    "                                                     pos_label=1)\n",
    "        auc += [np.round(sklearn.metrics.auc(fpr, tr),3)]\n",
    "        diff_i = y_true_i - y_pred_i\n",
    "        sum_i = y_true_i + y_pred_i\n",
    "        fp = sum(diff_i==-1)\n",
    "        fn = sum(diff_i==1)\n",
    "        tp = sum(sum_i==2)\n",
    "        tn = sum(sum_i==0)\n",
    "        precision += [tp/(tp+fp)]\n",
    "        tpr += [(tp/(tp+fn))]\n",
    "        accuracy += [((tp+tn)/(tp+fn+tn+fp))]\n",
    "    return (precision, tpr, accuracy, auc)"
   ]
  },
  {
   "cell_type": "code",
   "execution_count": 2,
   "metadata": {
    "ExecuteTime": {
     "end_time": "2020-06-16T03:44:15.078119Z",
     "start_time": "2020-06-16T03:44:14.991890Z"
    }
   },
   "outputs": [],
   "source": [
    "training_df = pd.read_csv('/Users/afrah/Desktop/catchingfeels/data/trainingdata_metadata.csv', )"
   ]
  },
  {
   "cell_type": "code",
   "execution_count": 4,
   "metadata": {
    "ExecuteTime": {
     "end_time": "2020-06-16T03:44:33.188581Z",
     "start_time": "2020-06-16T03:44:33.128759Z"
    }
   },
   "outputs": [],
   "source": [
    "#4650 entries --male; 4232 entries --female\n",
    "df_male, df_female = [\n",
    "    x for _, x in training_df.groupby(training_df['Sex'] == 'Female')\n",
    "]"
   ]
  },
  {
   "cell_type": "code",
   "execution_count": 28,
   "metadata": {
    "ExecuteTime": {
     "end_time": "2020-06-16T03:47:47.292640Z",
     "start_time": "2020-06-16T03:47:47.272036Z"
    }
   },
   "outputs": [],
   "source": [
    "def get_var_inds(zcr, keep_frames, start_ind, end_ind):\n",
    "    mid_ind = int(np.round(len(zcr)*.5))\n",
    "    var_x = np.var(zcr[:mid_ind])\n",
    "    var_y = np.var(zcr[mid_ind:])\n",
    "    if len(zcr)*0.5 <= keep_frames:\n",
    "        if var_x > var_y:\n",
    "            end_ind = start_ind + keep_frames\n",
    "        else:\n",
    "            start_ind = end_ind - keep_frames\n",
    "        return (start_ind, end_ind)\n",
    "    else:\n",
    "        if var_x > var_y:\n",
    "            end_ind = mid_ind\n",
    "        else:\n",
    "            start_ind = mid_ind\n",
    "        return get_var_inds(zcr[start_ind:end_ind], keep_frames, start_ind, end_ind)\n",
    "        \n",
    "def isolate_var(x, keep_frames):\n",
    "    \n",
    "    zcr = x[-1,:]\n",
    "    start_ind = 0\n",
    "    end_ind = len(zcr)\n",
    "    if not end_ind <= keep_frames:\n",
    "        start_ind, end_ind = get_var_inds(zcr, keep_frames, start_ind, end_ind)\n",
    "        assert(len(np.arange(start_ind, end_ind))==keep_frames)\n",
    "    return(x[:, start_ind:end_ind])\n",
    "    \n",
    "def load_matrix(df,\n",
    "                keep_frames=125,\n",
    "                feature_filename='feature_filename',\n",
    "                feature_dir='directory'):\n",
    "    #Create input array for training data\n",
    "    input_arr = [];\n",
    "    i = 0\n",
    "    fnames = []\n",
    "    for index, row in df.iterrows():\n",
    "        if i%1000==0:\n",
    "            print(i)\n",
    "        fnames += [row[feature_filename]]\n",
    "        recordingname = row[feature_dir] + row[feature_filename]\n",
    "        x = np.loadtxt(recordingname, delimiter=',')\n",
    "        x = np.vstack([x[:-1026,:],x[-1,:]])\n",
    "        if i==0:\n",
    "            input_arr = np.zeros(shape=(df.shape[0], x.shape[0], keep_frames))\n",
    "        if x.shape[1] <= keep_frames:\n",
    "            input_arr[i, :, :x.shape[1]] = x[:,:]\n",
    "        else:\n",
    "            # isolates sub matrix with most variation in zero crossing rate\n",
    "            input_arr[i, :, :] = isolate_var(x, keep_frames)\n",
    "        i += 1\n",
    "    return (fnames, input_arr)"
   ]
  },
  {
   "cell_type": "code",
   "execution_count": 29,
   "metadata": {
    "ExecuteTime": {
     "end_time": "2020-06-16T04:00:54.314371Z",
     "start_time": "2020-06-16T03:47:48.287473Z"
    }
   },
   "outputs": [],
   "source": [
    "fnames_male, arr_male = load_matrix(df_male, keep_frames=200)"
   ]
  },
  {
   "cell_type": "code",
   "execution_count": 31,
   "metadata": {
    "ExecuteTime": {
     "end_time": "2020-06-16T04:17:18.746652Z",
     "start_time": "2020-06-16T04:01:48.797742Z"
    }
   },
   "outputs": [],
   "source": [
    "fnames_female, arr_female = load_matrix(df_female, keep_frames=200)"
   ]
  },
  {
   "cell_type": "code",
   "execution_count": 33,
   "metadata": {
    "ExecuteTime": {
     "end_time": "2020-06-16T04:20:23.482411Z",
     "start_time": "2020-06-16T04:20:23.460850Z"
    }
   },
   "outputs": [],
   "source": [
    "def load_cnn(shape_input,\n",
    "             n_output=2,\n",
    "             loss_fxn = 'binary_crossentropy'):\n",
    "    model = Sequential()\n",
    "    model.add(Conv2D(8, (13, 13), input_shape=shape_input))\n",
    "    model.add(BatchNormalization(axis=-1))\n",
    "    model.add(Activation('relu'))\n",
    "    model.add(Conv2D(8, (13, 13)))\n",
    "    model.add(BatchNormalization(axis=-1))\n",
    "    model.add(Activation('relu'))\n",
    "    model.add(MaxPooling2D(pool_size=(2, 1)))\n",
    "    model.add(Conv2D(8, (3, 3)))\n",
    "    model.add(BatchNormalization(axis=-1))\n",
    "    model.add(Activation('relu'))\n",
    "    model.add(Conv2D(8, (1, 1)))\n",
    "    model.add(BatchNormalization(axis=-1))\n",
    "    model.add(Activation('relu'))\n",
    "    model.add(MaxPooling2D(pool_size=(2, 1)))\n",
    "    model.add(Flatten())\n",
    "    model.add(Dense(30))\n",
    "    model.add(BatchNormalization())\n",
    "    model.add(Activation('relu'))\n",
    "    model.add(Dropout(0.2))\n",
    "    model.add(Dense(n_output, activation='softmax'))\n",
    "    model.compile(loss=loss_fxn, optimizer='adam',\n",
    "                               metrics=['accuracy'])\n",
    "    return model"
   ]
  },
  {
   "cell_type": "code",
   "execution_count": 34,
   "metadata": {
    "ExecuteTime": {
     "end_time": "2020-06-16T04:20:25.889048Z",
     "start_time": "2020-06-16T04:20:25.879589Z"
    }
   },
   "outputs": [],
   "source": [
    "def get_indices(df, column='Actor', seed=42):\n",
    "    random.seed(42)\n",
    "    all_actors = df[column].unique()\n",
    "    \n",
    "    n_train = math.floor(.85 * len(all_actors))\n",
    "    n_valid = math.ceil(.1 * len(all_actors))\n",
    "    n_test = len(all_actors) - n_train - n_valid\n",
    "    \n",
    "    random.shuffle(all_actors)\n",
    "    train_actors = random.sample(list(all_actors), n_train)\n",
    "    test_actors = [i for i in all_actors if i not in train_actors]\n",
    "    valid_actors = test_actors[-n_valid:]\n",
    "    test_actors = test_actors[:n_test]\n",
    "    \n",
    "    train_indices = df[column].isin(train_actors)\n",
    "    test_indices = df[column].isin(test_actors)\n",
    "    valid_indices = df[column].isin(valid_actors)\n",
    "\n",
    "    return (train_indices, test_indices, valid_indices)"
   ]
  },
  {
   "cell_type": "code",
   "execution_count": 35,
   "metadata": {
    "ExecuteTime": {
     "end_time": "2020-06-16T04:20:29.794308Z",
     "start_time": "2020-06-16T04:20:29.771519Z"
    }
   },
   "outputs": [],
   "source": [
    "train_ind_male, test_ind_male, valid_ind_male = get_indices (df_male)\n",
    "train_ind_female, test_ind_female, valid_ind_female = get_indices (df_female)"
   ]
  },
  {
   "cell_type": "code",
   "execution_count": 36,
   "metadata": {
    "ExecuteTime": {
     "end_time": "2020-06-16T04:20:34.505107Z",
     "start_time": "2020-06-16T04:20:30.423585Z"
    }
   },
   "outputs": [],
   "source": [
    "X_train_male = arr_male[train_ind_male,:,:]#df_male[all_feature_names][train_ind_male]  #[train_indices]\n",
    "X_test_male = arr_male[test_ind_male,:,:]#df_male[all_feature_names][test_ind_male]  #X_dums[test_indices]\n",
    "X_valid_male = arr_male[valid_ind_male,:,:]#df_male[all_feature_names][valid_ind_male]  #X_dums[valid_indices]\n",
    "\n",
    "X_train_female = arr_female[train_ind_female,:,:]#df_female[all_feature_names][train_ind_female]  #[train_indices]\n",
    "X_test_female = arr_female[test_ind_female,:,:]#df_female[all_feature_names][test_ind_female]  #X_dums[test_indices]\n",
    "X_valid_female = arr_female[valid_ind_female,:,:]#df_female[all_feature_names][valid_ind_female]  #X_dums[valid_indices]"
   ]
  },
  {
   "cell_type": "code",
   "execution_count": 37,
   "metadata": {
    "ExecuteTime": {
     "end_time": "2020-06-16T04:20:34.596258Z",
     "start_time": "2020-06-16T04:20:34.521290Z"
    }
   },
   "outputs": [],
   "source": [
    "df_male['Emotion2'] = df_male.Emotion.replace(['calm','neutral'], 'neutral_calm')\n",
    "df_male['Emotion2'] = df_male.Emotion2.replace(['disgust','fearful','sad'], 'sad_disgust_fear')\n",
    "df_male['Emotion2'] = df_male.Emotion2.replace(['surprise','happy'], 'happy_surprise')\n",
    "\n",
    "df_female['Emotion2'] = df_female.Emotion.replace(['calm','neutral'], 'neutral_calm')\n",
    "df_female['Emotion2'] = df_female.Emotion2.replace(['disgust','fearful','sad'], 'sad_disgust_fear')\n",
    "df_female['Emotion2'] = df_female.Emotion2.replace(['surprise','happy'], 'happy_surprise')"
   ]
  },
  {
   "cell_type": "code",
   "execution_count": 38,
   "metadata": {
    "ExecuteTime": {
     "end_time": "2020-06-16T04:20:34.618999Z",
     "start_time": "2020-06-16T04:20:34.601835Z"
    }
   },
   "outputs": [],
   "source": [
    "y_male = pd.get_dummies(df_male.Emotion2)\n",
    "# y['Negative'] = y['Angry']+y['Fearful']+y['Disgust']+y['Sad']\n",
    "# # y['Positive'] = y['Happy']+y['Calm']+y['Surprise']+y['Neutral']\n",
    "# # y['two_cat']='a'\n",
    "# # y['two_cat'][y.Positive==1] = 'Positive'\n",
    "# # y['two_cat'][y.Negative==1] = 'Negative'\n",
    "# # df_male['two_cat'] = y['two_cat']\n",
    "# df_male['NegativeEmotion'] = y['Negative']\n",
    "\n",
    "y_female = pd.get_dummies(df_female.Emotion2)\n",
    "# y['Negative'] = y['Angry']+y['Fearful']+y['Disgust']+y['Sad']\n",
    "# # y['Positive'] = y['Happy']+y['Calm']+y['Surprise']+y['Neutral']\n",
    "# # y['two_cat']='a'\n",
    "# # y['two_cat'][y.Positive==1] = 'Positive'\n",
    "# # y['two_cat'][y.Negative==1] = 'Negative'\n",
    "# # df_female['two_cat'] = y['two_cat']\n",
    "# df_female['NegativeEmotion'] = y['Negative']"
   ]
  },
  {
   "cell_type": "code",
   "execution_count": 39,
   "metadata": {
    "ExecuteTime": {
     "end_time": "2020-06-16T04:20:34.646238Z",
     "start_time": "2020-06-16T04:20:34.627025Z"
    }
   },
   "outputs": [],
   "source": [
    "# y_train_male = df_male.two_cat[train_ind_male]\n",
    "# y_test_male = df_male.two_cat[test_ind_male]\n",
    "# y_valid_male = df_male.two_cat[valid_ind_male]\n",
    "\n",
    "# y_train_female = df_female.two_cat[train_ind_female]\n",
    "# y_test_female = df_female.two_cat[test_ind_female]\n",
    "# y_valid_female = df_female.two_cat[valid_ind_female]\n",
    "\n",
    "y_train_male = np.array(y_male)[train_ind_male,:]#df_male.two_cat[train_ind_male]\n",
    "y_test_male = np.array(y_male)[test_ind_male,:]#df_male.two_cat[test_ind_male]\n",
    "y_valid_male = np.array(y_male)[valid_ind_male,:]#df_male.two_cat[valid_ind_male]\n",
    "\n",
    "y_train_female = np.array(y_female)[train_ind_female,:]#df_male.two_cat[train_ind_male]\n",
    "y_test_female = np.array(y_female)[test_ind_female,:]#df_male.two_cat[test_ind_male]\n",
    "y_valid_female = np.array(y_female)[valid_ind_female,:]#df_male.two_cat[valid_ind_male]\n",
    "\n",
    "# y_train_female = df_female.two_cat[train_ind_female]\n",
    "# y_test_female = df_female.two_cat[test_ind_female]\n",
    "# y_valid_female = df_female.two_cat[valid_ind_female]"
   ]
  },
  {
   "cell_type": "code",
   "execution_count": 40,
   "metadata": {
    "ExecuteTime": {
     "end_time": "2020-06-16T04:20:34.902193Z",
     "start_time": "2020-06-16T04:20:34.897636Z"
    }
   },
   "outputs": [],
   "source": [
    "# y_train_male_dums = np.array(pd.get_dummies(y_train_male))\n",
    "# # y_train_female_dums = np.array(pd.get_dummies(y_train_female))"
   ]
  },
  {
   "cell_type": "code",
   "execution_count": 41,
   "metadata": {
    "ExecuteTime": {
     "end_time": "2020-06-16T04:20:35.529522Z",
     "start_time": "2020-06-16T04:20:35.525990Z"
    }
   },
   "outputs": [],
   "source": [
    "# y_test_male_dums = np.array(pd.get_dummies(y_test_male))\n",
    "# y_test_female_dums = np.array(pd.get_dummies(y_test_female))"
   ]
  },
  {
   "cell_type": "code",
   "execution_count": 42,
   "metadata": {
    "ExecuteTime": {
     "end_time": "2020-06-16T04:20:36.342804Z",
     "start_time": "2020-06-16T04:20:36.333122Z"
    }
   },
   "outputs": [],
   "source": [
    "# y_valid_male_dums = np.array(pd.get_dummies(y_valid_male))\n",
    "# y_valid_female_dums = np.array(pd.get_dummies(y_valid_female))"
   ]
  },
  {
   "cell_type": "code",
   "execution_count": 43,
   "metadata": {
    "ExecuteTime": {
     "end_time": "2020-06-16T04:20:37.057353Z",
     "start_time": "2020-06-16T04:20:37.035904Z"
    }
   },
   "outputs": [
    {
     "data": {
      "text/plain": [
       "array([[0, 0, 1, 0],\n",
       "       [0, 0, 0, 1],\n",
       "       [0, 0, 0, 1],\n",
       "       ...,\n",
       "       [0, 0, 0, 1],\n",
       "       [0, 1, 0, 0],\n",
       "       [0, 0, 0, 1]], dtype=uint8)"
      ]
     },
     "execution_count": 43,
     "metadata": {},
     "output_type": "execute_result"
    }
   ],
   "source": [
    "y_train_male"
   ]
  },
  {
   "cell_type": "code",
   "execution_count": 44,
   "metadata": {
    "ExecuteTime": {
     "end_time": "2020-06-16T04:20:37.787837Z",
     "start_time": "2020-06-16T04:20:37.775488Z"
    }
   },
   "outputs": [],
   "source": [
    "X_train_male = X_train_male.reshape(X_train_male.shape[0], X_train_male.shape[1], X_train_male.shape[2], 1)\n",
    "X_test_male = X_test_male.reshape(X_test_male.shape[0], X_train_male.shape[1], X_train_male.shape[2], 1)\n",
    "X_valid_male = X_valid_male.reshape(X_valid_male.shape[0], X_train_male.shape[1], X_train_male.shape[2], 1)\n",
    "\n",
    "X_train_female = X_train_female.reshape(X_train_female.shape[0], X_train_male.shape[1], X_train_male.shape[2], 1)\n",
    "X_test_female = X_test_female.reshape(X_test_female.shape[0], X_train_male.shape[1], X_train_male.shape[2], 1)\n",
    "X_valid_female = X_valid_female.reshape(X_valid_female.shape[0], X_train_male.shape[1], X_train_male.shape[2], 1)"
   ]
  },
  {
   "cell_type": "code",
   "execution_count": 81,
   "metadata": {
    "ExecuteTime": {
     "end_time": "2020-06-16T14:49:51.639837Z",
     "start_time": "2020-06-16T14:49:50.477310Z"
    }
   },
   "outputs": [],
   "source": [
    "male_model = load_cnn(shape_input=(X_train_male.shape[1], X_train_male.shape[2], 1), n_output=4, loss_fxn='categorical_crossentropy')\n",
    "female_model = load_cnn(shape_input=(X_train_female.shape[1], X_train_female.shape[2], 1), n_output=4, loss_fxn='categorical_crossentropy')"
   ]
  },
  {
   "cell_type": "code",
   "execution_count": 82,
   "metadata": {
    "ExecuteTime": {
     "end_time": "2020-06-16T19:37:33.591672Z",
     "start_time": "2020-06-16T14:49:51.642973Z"
    }
   },
   "outputs": [
    {
     "name": "stdout",
     "output_type": "stream",
     "text": [
      "Train on 4354 samples, validate on 224 samples\n",
      "Epoch 1/50\n",
      "4354/4354 [==============================] - 390s 90ms/step - loss: 1.2532 - accuracy: 0.4655 - val_loss: 1.4617 - val_accuracy: 0.3438\n",
      "Epoch 2/50\n",
      "4354/4354 [==============================] - 313s 72ms/step - loss: 1.0177 - accuracy: 0.5655 - val_loss: 1.5878 - val_accuracy: 0.2321\n",
      "Epoch 3/50\n",
      "4354/4354 [==============================] - 342s 79ms/step - loss: 0.9488 - accuracy: 0.5923 - val_loss: 1.1021 - val_accuracy: 0.5179\n",
      "Epoch 4/50\n",
      "4354/4354 [==============================] - 296s 68ms/step - loss: 0.8812 - accuracy: 0.6337 - val_loss: 0.9298 - val_accuracy: 0.5804\n",
      "Epoch 5/50\n",
      "4354/4354 [==============================] - 260s 60ms/step - loss: 0.8251 - accuracy: 0.6562 - val_loss: 1.2115 - val_accuracy: 0.3571\n",
      "Epoch 6/50\n",
      "4354/4354 [==============================] - 240s 55ms/step - loss: 0.7457 - accuracy: 0.6952 - val_loss: 1.8048 - val_accuracy: 0.2009\n",
      "Epoch 7/50\n",
      "4354/4354 [==============================] - 260s 60ms/step - loss: 0.6525 - accuracy: 0.7437 - val_loss: 1.1416 - val_accuracy: 0.4554\n",
      "Epoch 8/50\n",
      "4354/4354 [==============================] - 249s 57ms/step - loss: 0.5608 - accuracy: 0.7866 - val_loss: 1.0147 - val_accuracy: 0.5670\n",
      "Epoch 9/50\n",
      "4354/4354 [==============================] - 302s 69ms/step - loss: 0.4829 - accuracy: 0.8294 - val_loss: 1.1658 - val_accuracy: 0.6071\n",
      "Epoch 10/50\n",
      "4354/4354 [==============================] - 296s 68ms/step - loss: 0.4021 - accuracy: 0.8725 - val_loss: 1.1334 - val_accuracy: 0.6161\n",
      "Epoch 11/50\n",
      "4354/4354 [==============================] - 270s 62ms/step - loss: 0.3384 - accuracy: 0.8939 - val_loss: 1.0454 - val_accuracy: 0.6027\n",
      "Epoch 12/50\n",
      "4354/4354 [==============================] - 304s 70ms/step - loss: 0.2776 - accuracy: 0.9247 - val_loss: 1.3916 - val_accuracy: 0.5000\n",
      "Epoch 13/50\n",
      "4354/4354 [==============================] - 331s 76ms/step - loss: 0.2175 - accuracy: 0.9476 - val_loss: 1.3275 - val_accuracy: 0.4688\n",
      "Epoch 14/50\n",
      "4354/4354 [==============================] - 342s 79ms/step - loss: 0.1867 - accuracy: 0.9564 - val_loss: 1.2005 - val_accuracy: 0.5893\n",
      "Epoch 15/50\n",
      "4354/4354 [==============================] - 309s 71ms/step - loss: 0.1623 - accuracy: 0.9646 - val_loss: 1.1092 - val_accuracy: 0.6071\n",
      "Epoch 16/50\n",
      "4354/4354 [==============================] - 336s 77ms/step - loss: 0.1295 - accuracy: 0.9745 - val_loss: 1.2960 - val_accuracy: 0.6562\n",
      "Epoch 17/50\n",
      "4354/4354 [==============================] - 329s 76ms/step - loss: 0.1112 - accuracy: 0.9782 - val_loss: 1.2155 - val_accuracy: 0.6250\n",
      "Epoch 18/50\n",
      "4354/4354 [==============================] - 376s 86ms/step - loss: 0.0967 - accuracy: 0.9800 - val_loss: 1.3616 - val_accuracy: 0.6161\n",
      "Epoch 19/50\n",
      "4354/4354 [==============================] - 351s 81ms/step - loss: 0.0863 - accuracy: 0.9823 - val_loss: 1.7962 - val_accuracy: 0.5580\n",
      "Epoch 20/50\n",
      "4354/4354 [==============================] - 270s 62ms/step - loss: 0.0828 - accuracy: 0.9839 - val_loss: 1.3897 - val_accuracy: 0.6384\n",
      "Epoch 21/50\n",
      "4354/4354 [==============================] - 276s 63ms/step - loss: 0.0700 - accuracy: 0.9864 - val_loss: 1.6118 - val_accuracy: 0.5491\n",
      "Epoch 22/50\n",
      "4354/4354 [==============================] - 306s 70ms/step - loss: 0.0627 - accuracy: 0.9897 - val_loss: 1.2776 - val_accuracy: 0.6429\n",
      "Epoch 23/50\n",
      "4354/4354 [==============================] - 364s 84ms/step - loss: 0.0647 - accuracy: 0.9846 - val_loss: 1.7863 - val_accuracy: 0.5223\n",
      "Epoch 24/50\n",
      "4354/4354 [==============================] - 295s 68ms/step - loss: 0.0565 - accuracy: 0.9887 - val_loss: 1.4016 - val_accuracy: 0.5491\n",
      "Epoch 25/50\n",
      "4354/4354 [==============================] - 265s 61ms/step - loss: 0.0523 - accuracy: 0.9904 - val_loss: 1.1594 - val_accuracy: 0.7054\n",
      "Epoch 26/50\n",
      "4354/4354 [==============================] - 346s 79ms/step - loss: 0.0524 - accuracy: 0.9890 - val_loss: 1.9331 - val_accuracy: 0.5402\n",
      "Epoch 27/50\n",
      "4354/4354 [==============================] - 373s 86ms/step - loss: 0.0505 - accuracy: 0.9901 - val_loss: 1.8531 - val_accuracy: 0.5670\n",
      "Epoch 28/50\n",
      "4354/4354 [==============================] - 382s 88ms/step - loss: 0.0490 - accuracy: 0.9887 - val_loss: 1.5324 - val_accuracy: 0.6473\n",
      "Epoch 29/50\n",
      "4354/4354 [==============================] - 732s 168ms/step - loss: 0.0464 - accuracy: 0.9908 - val_loss: 1.2694 - val_accuracy: 0.6429\n",
      "Epoch 30/50\n",
      "4354/4354 [==============================] - 504s 116ms/step - loss: 0.0489 - accuracy: 0.9887 - val_loss: 1.7593 - val_accuracy: 0.6295\n",
      "Epoch 31/50\n",
      "4354/4354 [==============================] - 390s 89ms/step - loss: 0.0456 - accuracy: 0.9897 - val_loss: 2.3815 - val_accuracy: 0.6429\n",
      "Epoch 32/50\n",
      "4354/4354 [==============================] - 332s 76ms/step - loss: 0.0488 - accuracy: 0.9883 - val_loss: 2.7378 - val_accuracy: 0.4643\n",
      "Epoch 33/50\n",
      "4354/4354 [==============================] - 368s 85ms/step - loss: 0.0547 - accuracy: 0.9855 - val_loss: 1.7700 - val_accuracy: 0.5938\n",
      "Epoch 34/50\n",
      "4354/4354 [==============================] - 459s 105ms/step - loss: 0.0536 - accuracy: 0.9862 - val_loss: 2.0233 - val_accuracy: 0.6384\n",
      "Epoch 35/50\n",
      "4354/4354 [==============================] - 411s 94ms/step - loss: 0.0478 - accuracy: 0.9864 - val_loss: 1.9583 - val_accuracy: 0.6384\n",
      "Epoch 36/50\n",
      "4354/4354 [==============================] - 437s 100ms/step - loss: 0.0424 - accuracy: 0.9897 - val_loss: 2.1057 - val_accuracy: 0.5982\n",
      "Epoch 37/50\n",
      "4354/4354 [==============================] - 419s 96ms/step - loss: 0.0423 - accuracy: 0.9890 - val_loss: 1.8061 - val_accuracy: 0.6339\n",
      "Epoch 38/50\n",
      "4354/4354 [==============================] - 332s 76ms/step - loss: 0.0496 - accuracy: 0.9864 - val_loss: 2.2147 - val_accuracy: 0.6027\n",
      "Epoch 39/50\n",
      "4354/4354 [==============================] - 456s 105ms/step - loss: 0.0454 - accuracy: 0.9874 - val_loss: 1.7481 - val_accuracy: 0.6384\n",
      "Epoch 40/50\n",
      "4354/4354 [==============================] - 494s 114ms/step - loss: 0.0372 - accuracy: 0.9922 - val_loss: 1.5552 - val_accuracy: 0.6518\n",
      "Epoch 41/50\n",
      "4354/4354 [==============================] - 462s 106ms/step - loss: 0.0417 - accuracy: 0.9876 - val_loss: 1.5691 - val_accuracy: 0.6607\n",
      "Epoch 42/50\n",
      "4354/4354 [==============================] - 427s 98ms/step - loss: 0.0395 - accuracy: 0.9913 - val_loss: 3.2660 - val_accuracy: 0.4375\n",
      "Epoch 43/50\n",
      "4354/4354 [==============================] - 273s 63ms/step - loss: 0.0325 - accuracy: 0.9927 - val_loss: 3.5081 - val_accuracy: 0.4509\n",
      "Epoch 44/50\n",
      "4354/4354 [==============================] - 268s 62ms/step - loss: 0.0385 - accuracy: 0.9897 - val_loss: 2.4886 - val_accuracy: 0.5759\n",
      "Epoch 45/50\n",
      "4354/4354 [==============================] - 269s 62ms/step - loss: 0.0322 - accuracy: 0.9929 - val_loss: 2.3284 - val_accuracy: 0.5804\n",
      "Epoch 46/50\n",
      "4354/4354 [==============================] - 267s 61ms/step - loss: 0.0276 - accuracy: 0.9940 - val_loss: 1.9937 - val_accuracy: 0.6116\n",
      "Epoch 47/50\n",
      "4354/4354 [==============================] - 281s 65ms/step - loss: 0.0244 - accuracy: 0.9938 - val_loss: 2.1688 - val_accuracy: 0.5714\n",
      "Epoch 48/50\n",
      "4354/4354 [==============================] - 314s 72ms/step - loss: 0.0227 - accuracy: 0.9952 - val_loss: 1.9481 - val_accuracy: 0.5312\n",
      "Epoch 49/50\n",
      "4354/4354 [==============================] - 294s 67ms/step - loss: 0.0261 - accuracy: 0.9931 - val_loss: 1.9001 - val_accuracy: 0.5759\n",
      "Epoch 50/50\n",
      "4354/4354 [==============================] - 298s 68ms/step - loss: 0.0273 - accuracy: 0.9938 - val_loss: 1.8905 - val_accuracy: 0.6071\n"
     ]
    },
    {
     "data": {
      "text/plain": [
       "<keras.callbacks.callbacks.History at 0x1af3034f10>"
      ]
     },
     "execution_count": 82,
     "metadata": {},
     "output_type": "execute_result"
    }
   ],
   "source": [
    "male_model.fit(X_train_male,\n",
    "          y_train_male,\n",
    "          batch_size=100,\n",
    "          epochs=50,\n",
    "          verbose=1,\n",
    "          validation_data=(X_test_male, y_test_male))"
   ]
  },
  {
   "cell_type": "code",
   "execution_count": 83,
   "metadata": {
    "ExecuteTime": {
     "end_time": "2020-06-17T02:06:00.750493Z",
     "start_time": "2020-06-16T19:37:33.618077Z"
    }
   },
   "outputs": [
    {
     "name": "stdout",
     "output_type": "stream",
     "text": [
      "Train on 6344 samples, validate on 224 samples\n",
      "Epoch 1/50\n",
      "6344/6344 [==============================] - 464s 73ms/step - loss: 0.8201 - accuracy: 0.6729 - val_loss: 1.3613 - val_accuracy: 0.2411\n",
      "Epoch 2/50\n",
      "6344/6344 [==============================] - 474s 75ms/step - loss: 0.5628 - accuracy: 0.7703 - val_loss: 1.2269 - val_accuracy: 0.4464\n",
      "Epoch 3/50\n",
      "6344/6344 [==============================] - 461s 73ms/step - loss: 0.5033 - accuracy: 0.7941 - val_loss: 1.0995 - val_accuracy: 0.5446\n",
      "Epoch 4/50\n",
      "6344/6344 [==============================] - 570s 90ms/step - loss: 0.4687 - accuracy: 0.8121 - val_loss: 0.9593 - val_accuracy: 0.5893\n",
      "Epoch 5/50\n",
      "6344/6344 [==============================] - 516s 81ms/step - loss: 0.4354 - accuracy: 0.8241 - val_loss: 1.2530 - val_accuracy: 0.3482\n",
      "Epoch 6/50\n",
      "6344/6344 [==============================] - 441s 69ms/step - loss: 0.3845 - accuracy: 0.8476 - val_loss: 0.8998 - val_accuracy: 0.6116\n",
      "Epoch 7/50\n",
      "6344/6344 [==============================] - 493s 78ms/step - loss: 0.3644 - accuracy: 0.8594 - val_loss: 1.0254 - val_accuracy: 0.6205\n",
      "Epoch 8/50\n",
      "6344/6344 [==============================] - 466s 73ms/step - loss: 0.3246 - accuracy: 0.8782 - val_loss: 1.2214 - val_accuracy: 0.5402\n",
      "Epoch 9/50\n",
      "6344/6344 [==============================] - 428s 67ms/step - loss: 0.2979 - accuracy: 0.8901 - val_loss: 1.4232 - val_accuracy: 0.5625\n",
      "Epoch 10/50\n",
      "6344/6344 [==============================] - 490s 77ms/step - loss: 0.2727 - accuracy: 0.8974 - val_loss: 1.8956 - val_accuracy: 0.3795\n",
      "Epoch 11/50\n",
      "6344/6344 [==============================] - 517s 81ms/step - loss: 0.2354 - accuracy: 0.9150 - val_loss: 1.4440 - val_accuracy: 0.5446\n",
      "Epoch 12/50\n",
      "6344/6344 [==============================] - 532s 84ms/step - loss: 0.2087 - accuracy: 0.9234 - val_loss: 1.8718 - val_accuracy: 0.4107\n",
      "Epoch 13/50\n",
      "6344/6344 [==============================] - 519s 82ms/step - loss: 0.1819 - accuracy: 0.9395 - val_loss: 1.1304 - val_accuracy: 0.5625\n",
      "Epoch 14/50\n",
      "6344/6344 [==============================] - 512s 81ms/step - loss: 0.1641 - accuracy: 0.9461 - val_loss: 1.2625 - val_accuracy: 0.5134\n",
      "Epoch 15/50\n",
      "6344/6344 [==============================] - 627s 99ms/step - loss: 0.1425 - accuracy: 0.9546 - val_loss: 1.0986 - val_accuracy: 0.6473\n",
      "Epoch 16/50\n",
      "6344/6344 [==============================] - 520s 82ms/step - loss: 0.1324 - accuracy: 0.9571 - val_loss: 1.0945 - val_accuracy: 0.6116\n",
      "Epoch 17/50\n",
      "6344/6344 [==============================] - 443s 70ms/step - loss: 0.1173 - accuracy: 0.9636 - val_loss: 1.1648 - val_accuracy: 0.6295\n",
      "Epoch 18/50\n",
      "6344/6344 [==============================] - 674s 106ms/step - loss: 0.0999 - accuracy: 0.9713 - val_loss: 1.6350 - val_accuracy: 0.6027\n",
      "Epoch 19/50\n",
      "6344/6344 [==============================] - 910s 143ms/step - loss: 0.0922 - accuracy: 0.9707 - val_loss: 2.3874 - val_accuracy: 0.5580\n",
      "Epoch 20/50\n",
      "6344/6344 [==============================] - 648s 102ms/step - loss: 0.0787 - accuracy: 0.9771 - val_loss: 1.4481 - val_accuracy: 0.6071\n",
      "Epoch 21/50\n",
      "6344/6344 [==============================] - 747s 118ms/step - loss: 0.0879 - accuracy: 0.9738 - val_loss: 1.5112 - val_accuracy: 0.5446\n",
      "Epoch 22/50\n",
      "6344/6344 [==============================] - 905s 143ms/step - loss: 0.0862 - accuracy: 0.9740 - val_loss: 3.5579 - val_accuracy: 0.5045\n",
      "Epoch 23/50\n",
      "6344/6344 [==============================] - 372s 59ms/step - loss: 0.0587 - accuracy: 0.9839 - val_loss: 1.8535 - val_accuracy: 0.4866\n",
      "Epoch 24/50\n",
      "6344/6344 [==============================] - 337s 53ms/step - loss: 0.0515 - accuracy: 0.9860 - val_loss: 2.3493 - val_accuracy: 0.4375\n",
      "Epoch 25/50\n",
      "6344/6344 [==============================] - 335s 53ms/step - loss: 0.0526 - accuracy: 0.9846 - val_loss: 2.4135 - val_accuracy: 0.5759\n",
      "Epoch 26/50\n",
      "6344/6344 [==============================] - 536s 84ms/step - loss: 0.0466 - accuracy: 0.9872 - val_loss: 1.5900 - val_accuracy: 0.6161\n",
      "Epoch 27/50\n",
      "6344/6344 [==============================] - 861s 136ms/step - loss: 0.0475 - accuracy: 0.9864 - val_loss: 3.0655 - val_accuracy: 0.5223\n",
      "Epoch 28/50\n",
      "6344/6344 [==============================] - 704s 111ms/step - loss: 0.0556 - accuracy: 0.9841 - val_loss: 1.7276 - val_accuracy: 0.6027\n",
      "Epoch 29/50\n",
      "6344/6344 [==============================] - 572s 90ms/step - loss: 0.0524 - accuracy: 0.9838 - val_loss: 2.2142 - val_accuracy: 0.5580\n",
      "Epoch 30/50\n",
      "6344/6344 [==============================] - 434s 68ms/step - loss: 0.0447 - accuracy: 0.9887 - val_loss: 1.6771 - val_accuracy: 0.6116\n",
      "Epoch 31/50\n",
      "6344/6344 [==============================] - 322s 51ms/step - loss: 0.0491 - accuracy: 0.9847 - val_loss: 1.6572 - val_accuracy: 0.5402\n",
      "Epoch 32/50\n",
      "6344/6344 [==============================] - 314s 49ms/step - loss: 0.0365 - accuracy: 0.9896 - val_loss: 2.7539 - val_accuracy: 0.5312\n",
      "Epoch 33/50\n",
      "6344/6344 [==============================] - 312s 49ms/step - loss: 0.0400 - accuracy: 0.9887 - val_loss: 3.1686 - val_accuracy: 0.4018\n",
      "Epoch 34/50\n",
      "6344/6344 [==============================] - 323s 51ms/step - loss: 0.0276 - accuracy: 0.9935 - val_loss: 1.7318 - val_accuracy: 0.5938\n",
      "Epoch 35/50\n",
      "6344/6344 [==============================] - 348s 55ms/step - loss: 0.0323 - accuracy: 0.9910 - val_loss: 4.0814 - val_accuracy: 0.4955\n",
      "Epoch 36/50\n",
      "6344/6344 [==============================] - 313s 49ms/step - loss: 0.0390 - accuracy: 0.9874 - val_loss: 3.8591 - val_accuracy: 0.5179\n",
      "Epoch 37/50\n",
      "6344/6344 [==============================] - 301s 47ms/step - loss: 0.0480 - accuracy: 0.9850 - val_loss: 1.7154 - val_accuracy: 0.5893\n",
      "Epoch 38/50\n",
      "6344/6344 [==============================] - 300s 47ms/step - loss: 0.0381 - accuracy: 0.9890 - val_loss: 1.6243 - val_accuracy: 0.6473\n",
      "Epoch 39/50\n",
      "6344/6344 [==============================] - 300s 47ms/step - loss: 0.0485 - accuracy: 0.9855 - val_loss: 1.6324 - val_accuracy: 0.6071\n",
      "Epoch 40/50\n",
      "6344/6344 [==============================] - 299s 47ms/step - loss: 0.0370 - accuracy: 0.9891 - val_loss: 1.8323 - val_accuracy: 0.5759\n",
      "Epoch 41/50\n",
      "6344/6344 [==============================] - 299s 47ms/step - loss: 0.0322 - accuracy: 0.9902 - val_loss: 2.2196 - val_accuracy: 0.5938\n",
      "Epoch 42/50\n",
      "6344/6344 [==============================] - 298s 47ms/step - loss: 0.0288 - accuracy: 0.9910 - val_loss: 1.8540 - val_accuracy: 0.6161\n",
      "Epoch 43/50\n",
      "6344/6344 [==============================] - 344s 54ms/step - loss: 0.0244 - accuracy: 0.9939 - val_loss: 5.9637 - val_accuracy: 0.4911\n",
      "Epoch 44/50\n",
      "6344/6344 [==============================] - 364s 57ms/step - loss: 0.0210 - accuracy: 0.9937 - val_loss: 1.8473 - val_accuracy: 0.5893\n",
      "Epoch 45/50\n",
      "6344/6344 [==============================] - 423s 67ms/step - loss: 0.0196 - accuracy: 0.9954 - val_loss: 1.9919 - val_accuracy: 0.5893\n",
      "Epoch 46/50\n",
      "6344/6344 [==============================] - 389s 61ms/step - loss: 0.0218 - accuracy: 0.9943 - val_loss: 2.0591 - val_accuracy: 0.5045\n",
      "Epoch 47/50\n",
      "6344/6344 [==============================] - 395s 62ms/step - loss: 0.0202 - accuracy: 0.9946 - val_loss: 1.9781 - val_accuracy: 0.6116\n",
      "Epoch 48/50\n",
      "6344/6344 [==============================] - 429s 68ms/step - loss: 0.0274 - accuracy: 0.9927 - val_loss: 1.8935 - val_accuracy: 0.5759\n",
      "Epoch 49/50\n",
      "6344/6344 [==============================] - 368s 58ms/step - loss: 0.0399 - accuracy: 0.9860 - val_loss: 2.0082 - val_accuracy: 0.5982\n",
      "Epoch 50/50\n",
      "6344/6344 [==============================] - 355s 56ms/step - loss: 0.0369 - accuracy: 0.9877 - val_loss: 6.1443 - val_accuracy: 0.4955\n"
     ]
    },
    {
     "data": {
      "text/plain": [
       "<keras.callbacks.callbacks.History at 0x1af3a31610>"
      ]
     },
     "execution_count": 83,
     "metadata": {},
     "output_type": "execute_result"
    }
   ],
   "source": [
    "female_model.fit(X_train_female,\n",
    "          y_train_female,\n",
    "          batch_size=100,\n",
    "          epochs=50,\n",
    "          verbose=1,\n",
    "          validation_data=(X_test_female, y_test_female))"
   ]
  },
  {
   "cell_type": "code",
   "execution_count": 87,
   "metadata": {
    "ExecuteTime": {
     "end_time": "2020-06-17T02:10:50.346935Z",
     "start_time": "2020-06-17T02:10:47.453587Z"
    }
   },
   "outputs": [],
   "source": [
    "male_model = joblib.load('./male_model_20epochs_config061620.sav')"
   ]
  },
  {
   "cell_type": "code",
   "execution_count": 88,
   "metadata": {
    "ExecuteTime": {
     "end_time": "2020-06-17T02:10:55.351440Z",
     "start_time": "2020-06-17T02:10:50.349779Z"
    }
   },
   "outputs": [],
   "source": [
    "# y_pred_test_female = female_model.predict(X_test_female)\n",
    "# y_pred_valid_female = female_model.predict(X_valid_female)\n",
    "\n",
    "\n",
    "# y_pred_test_male = male_model.predict(X_test_male)\n",
    "y_pred_valid_male = male_model.predict(X_valid_male)"
   ]
  },
  {
   "cell_type": "code",
   "execution_count": 89,
   "metadata": {
    "ExecuteTime": {
     "end_time": "2020-06-17T02:10:55.396679Z",
     "start_time": "2020-06-17T02:10:55.354515Z"
    }
   },
   "outputs": [
    {
     "name": "stdout",
     "output_type": "stream",
     "text": [
      "0\n",
      "1\n",
      "2\n",
      "3\n",
      "Precision [0.5531914893617021, 0.5769230769230769, 0.7692307692307693, 0.677710843373494] \n",
      "TruePosRt [0.8478260869565217, 0.15, 0.11904761904761904, 0.8152173913043478] \n",
      "Accuracy [0.8605072463768116, 0.8260869565217391, 0.8605072463768116, 0.7137681159420289] \n",
      "AUC [0.855, 0.563, 0.556, 0.714]\n"
     ]
    }
   ],
   "source": [
    "# precision, tpr, accuracy, auc = get_precision(np.round(y_pred_valid_female),\n",
    "#                                               np.array(y_valid_female))\n",
    "# print('Precision', precision, '\\nTruePosRt', tpr, '\\nAccuracy', accuracy,\n",
    "#       '\\nAUC', auc)\n",
    "\n",
    "precision, tpr, accuracy, auc = get_precision(np.round(y_pred_valid_male),\n",
    "                                              np.array(y_valid_male))\n",
    "print('Precision', precision, '\\nTruePosRt', tpr, '\\nAccuracy', accuracy,\n",
    "      '\\nAUC', auc)"
   ]
  },
  {
   "cell_type": "code",
   "execution_count": null,
   "metadata": {
    "ExecuteTime": {
     "end_time": "2020-06-16T14:41:14.148799Z",
     "start_time": "2020-06-16T14:41:14.142763Z"
    }
   },
   "outputs": [],
   "source": [
    "#female 061520 10 epochs\n",
    "# Precision [0.8571428571428571, 0.31443298969072164, 0.0, 0.7247706422018348] \n",
    "# TruePosRt [0.3116883116883117, 0.7176470588235294, 0.0, 0.683982683982684] \n",
    "# Accuracy [0.8771551724137931, 0.6616379310344828, 0.8426724137931034, 0.7133620689655172] \n",
    "# AUC [0.651, 0.683, 0.497, 0.713]\n",
    "\n",
    "#male 061520\n",
    "# Precision [0.6028368794326241, 0.6666666666666666, 0.75, 0.7056962025316456] \n",
    "# TruePosRt [0.9239130434782609, 0.02, 0.03571428571428571, 0.8079710144927537] \n",
    "# Accuracy [0.8858695652173914, 0.8206521739130435, 0.8514492753623188, 0.7355072463768116] \n",
    "# AUC [0.901, 0.509, 0.517, 0.736]\n",
    "\n",
    "\n",
    "\n",
    "##FEMALE ##20 epochs\n",
    "# Precision [0.7111111111111111, 0.5263157894736842, 0.5806451612903226, 0.575] \n",
    "# TruePosRt [0.4155844155844156, 0.11764705882352941, 0.2535211267605634, 0.8961038961038961] \n",
    "# Accuracy [0.875, 0.8189655172413793, 0.8577586206896551, 0.6185344827586207] \n",
    "# AUC [0.691, 0.547, 0.61, 0.62]\n",
    "# ##MALE\n",
    "# Precision [0.5531914893617021, 0.5769230769230769, 0.7692307692307693, 0.677710843373494] \n",
    "# TruePosRt [0.8478260869565217, 0.15, 0.11904761904761904, 0.8152173913043478] \n",
    "# Accuracy [0.8605072463768116, 0.8260869565217391, 0.8605072463768116, 0.7137681159420289] \n",
    "# AUC [0.855, 0.563, 0.556, 0.714]\n",
    "\n",
    "## FEMALE ##50 epochss\n",
    "# Precision [1.0, nan, nan, 0.5] \n",
    "# TruePosRt [0.025974025974025976, 0.0, 0.0, 1.0] \n",
    "# Accuracy [0.8383620689655172, 0.8168103448275862, 0.8469827586206896, 0.5021551724137931] \n",
    "# AUC [0.513, 0.5, 0.5, 0.504]\n",
    "\n",
    "# Precision [0.6666666666666666, 0.38235294117647056, 0.5064935064935064, 0.6610169491525424] \n",
    "# TruePosRt [0.5652173913043478, 0.13, 0.4642857142857143, 0.8478260869565217] \n",
    "# Accuracy [0.8804347826086957, 0.8043478260869565, 0.8496376811594203, 0.7065217391304348] \n",
    "# AUC [0.754, 0.542, 0.692, 0.707]\n"
   ]
  },
  {
   "cell_type": "code",
   "execution_count": 86,
   "metadata": {
    "ExecuteTime": {
     "end_time": "2020-06-17T02:09:04.853698Z",
     "start_time": "2020-06-17T02:09:04.747518Z"
    }
   },
   "outputs": [
    {
     "data": {
      "text/plain": [
       "['./male_model_50epochs_config061620.sav']"
      ]
     },
     "execution_count": 86,
     "metadata": {},
     "output_type": "execute_result"
    }
   ],
   "source": [
    "# joblib.dump(female_model, './female_model_20epochs_config061620.sav')\n",
    "# joblib.dump(male_model, './male_model_20epochs_config061620.sav')\n",
    "joblib.dump(female_model, './female_model_50epochs_config061620.sav')\n",
    "joblib.dump(male_model, './male_model_50epochs_config061620.sav')"
   ]
  },
  {
   "cell_type": "code",
   "execution_count": null,
   "metadata": {
    "ExecuteTime": {
     "end_time": "2020-06-13T18:00:07.903081Z",
     "start_time": "2020-06-13T18:00:01.489075Z"
    }
   },
   "outputs": [],
   "source": [
    "import sklearn.linear_model\n",
    "import xgboost as xgb\n",
    "reg_rf = xgb.XGBRFRegressor().fit(X_train, y_train)"
   ]
  },
  {
   "cell_type": "code",
   "execution_count": null,
   "metadata": {
    "ExecuteTime": {
     "end_time": "2020-06-13T18:00:07.955240Z",
     "start_time": "2020-06-13T18:00:07.906387Z"
    }
   },
   "outputs": [],
   "source": [
    "y_pred_test = reg_rf.predict(X_test)\n",
    "y_pred_valid = reg_rf.predict(X_valid)\n",
    "# cm = sklearn.metrics.confusion_matrix(y_valid, y_pred_valid)\n",
    "\n",
    "# fpr, tpr, _ = sklearn.metrics.roc_curve(np.array(pd.get_dummies(y_valid)['Female']),\n",
    "#                                 np.array(pd.get_dummies(y_pred_valid)['Female']))\n",
    "# print('AUC: ', sklearn.metrics.auc(fpr,tpr))\n",
    "# print('Precision - Female: ', sklearn.metrics.precision_score(np.array(pd.get_dummies(y_valid)['Female']),\n",
    "#                                 np.array(pd.get_dummies(y_pred_valid)['Female'])))\n",
    "\n",
    "# fpr, tpr, _ = sklearn.metrics.roc_curve(np.array(pd.get_dummies(y_valid)['Male']),\n",
    "#                                 np.array(pd.get_dummies(y_pred_valid)['Male']))\n",
    "# print('Precision - Male: ', sklearn.metrics.precision_score(np.array(pd.get_dummies(y_valid)['Male']),\n",
    "#                                 np.array(pd.get_dummies(y_pred_valid)['Male'])))"
   ]
  },
  {
   "cell_type": "code",
   "execution_count": null,
   "metadata": {
    "ExecuteTime": {
     "end_time": "2020-06-13T18:00:07.972635Z",
     "start_time": "2020-06-13T18:00:07.958258Z"
    }
   },
   "outputs": [],
   "source": [
    "print(sklearn.metrics.mean_squared_error(y_test, y_pred_test))\n",
    "print(sklearn.metrics.r2_score(y_test, y_pred_test))\n",
    "print(sklearn.metrics.mean_absolute_error(y_test, y_pred_test))"
   ]
  },
  {
   "cell_type": "code",
   "execution_count": null,
   "metadata": {
    "ExecuteTime": {
     "end_time": "2020-06-13T18:00:12.175901Z",
     "start_time": "2020-06-13T18:00:11.927644Z"
    }
   },
   "outputs": [],
   "source": [
    "sns.scatterplot(y_test, y_pred_test)"
   ]
  },
  {
   "cell_type": "code",
   "execution_count": null,
   "metadata": {},
   "outputs": [],
   "source": []
  },
  {
   "cell_type": "code",
   "execution_count": null,
   "metadata": {},
   "outputs": [],
   "source": []
  },
  {
   "cell_type": "code",
   "execution_count": null,
   "metadata": {
    "ExecuteTime": {
     "end_time": "2020-06-12T00:38:02.570058Z",
     "start_time": "2020-06-12T00:38:02.563017Z"
    }
   },
   "outputs": [],
   "source": [
    "emotion_dict = {\n",
    "    'ANG': 'Angry',\n",
    "    'HAP': 'Happy',\n",
    "    'SAD': 'Sad',\n",
    "    'NEU': 'Neutral',\n",
    "    'DIS': 'Disgust',\n",
    "    'FEA': 'Fearful',\n",
    "    'CAL': 'Calm',\n",
    "    'SUR': 'Surprise'\n",
    "}"
   ]
  },
  {
   "cell_type": "code",
   "execution_count": null,
   "metadata": {
    "ExecuteTime": {
     "end_time": "2020-06-12T00:41:34.162035Z",
     "start_time": "2020-06-12T00:41:34.148708Z"
    }
   },
   "outputs": [],
   "source": [
    "y_valid_dums = pd.get_dummies(y_valid)\n",
    "y_test_dums = pd.get_dummies(y_test)\n",
    "y_pred_test_dums = pd.get_dummies(y_pred_test)\n",
    "y_pred_valid_dums = pd.get_dummies(y_pred_valid)"
   ]
  },
  {
   "cell_type": "code",
   "execution_count": null,
   "metadata": {
    "ExecuteTime": {
     "end_time": "2020-06-12T00:43:36.777377Z",
     "start_time": "2020-06-12T00:43:36.715931Z"
    }
   },
   "outputs": [],
   "source": [
    "print('\\t\\tAUC')\n",
    "for mood in emotion_dict.values():\n",
    "    print(' ')\n",
    "    fpr, tpr, thresholds = sklearn.metrics.roc_curve(y_test_dums[mood],\n",
    "                                                     y_pred_test_dums[mood],\n",
    "                                                     pos_label=1)\n",
    "    print(mood, 'test:\\t', np.round(sklearn.metrics.auc(fpr, tpr), 3), sep=' ')\n",
    "    fpr, tpr, thresholds = sklearn.metrics.roc_curve(y_valid_dums[mood],\n",
    "                                                     y_pred_valid_dums[mood],\n",
    "                                                     pos_label=1)\n",
    "    print(mood,\n",
    "          'valid:\\t',\n",
    "          np.round(sklearn.metrics.auc(fpr, tpr), 3),\n",
    "          sep=' ')"
   ]
  },
  {
   "cell_type": "markdown",
   "metadata": {},
   "source": [
    "# Binary prediction: RForest\n"
   ]
  },
  {
   "cell_type": "code",
   "execution_count": null,
   "metadata": {
    "ExecuteTime": {
     "end_time": "2020-06-12T13:43:24.942750Z",
     "start_time": "2020-06-12T13:43:24.911152Z"
    }
   },
   "outputs": [],
   "source": [
    "y_train = y.two_cat[train_indices]\n",
    "y_test = y.two_cat[test_indices]\n",
    "y_valid = y.two_cat[valid_indices]"
   ]
  },
  {
   "cell_type": "code",
   "execution_count": null,
   "metadata": {
    "ExecuteTime": {
     "end_time": "2020-06-12T06:16:06.259428Z",
     "start_time": "2020-06-12T06:15:27.389134Z"
    }
   },
   "outputs": [],
   "source": [
    "reg_rf_twoC = sklearn.ensemble.RandomForestClassifier().fit(X_train, y_train)"
   ]
  },
  {
   "cell_type": "code",
   "execution_count": null,
   "metadata": {
    "ExecuteTime": {
     "end_time": "2020-06-12T13:59:59.678987Z",
     "start_time": "2020-06-12T13:59:59.039898Z"
    }
   },
   "outputs": [],
   "source": [
    "y_pred_test = reg_rf_twoC.predict(X_test)\n",
    "y_pred_valid = reg_rf_twoC.predict(X_valid)\n",
    "fig, ax = plt.subplots(figsize=(20, 10))\n",
    "sklearn.metrics.plot_confusion_matrix(reg_rf_twoC,\n",
    "                                      X_valid,\n",
    "                                      y_valid,\n",
    "                                      xticks_rotation=30,\n",
    "                                      ax=ax)\n",
    "\n",
    "cm = sklearn.metrics.confusion_matrix(y_test, y_pred_test)\n",
    "names_ = y_test.unique()\n",
    "names_.sort()\n",
    "print('Test\\t' + '\\t'.join(names_))\n",
    "print(\n",
    "    'Precision: ', '\\t'.join([\n",
    "        str(np.round(cm[i, i] / sum(cm[:, i]), 2))\n",
    "        for i in np.arange(cm.shape[0])\n",
    "    ]))\n",
    "print(\n",
    "    'TruePosRt: ', '\\t'.join([\n",
    "        str(np.round(cm[i, i] / sum(cm[i, :]), 2))\n",
    "        for i in np.arange(cm.shape[0])\n",
    "    ]))\n",
    "\n",
    "cm = sklearn.metrics.confusion_matrix(y_valid, y_pred_valid)\n",
    "names_ = y_test.unique()\n",
    "names_.sort()\n",
    "print('Valid\\t' + '\\t'.join(names_))\n",
    "print(\n",
    "    'Precision: ', '\\t'.join([\n",
    "        str(np.round(cm[i, i] / sum(cm[:, i]), 2))\n",
    "        for i in np.arange(cm.shape[0])\n",
    "    ]))\n",
    "print(\n",
    "    'TruePosRt: ', '\\t'.join([\n",
    "        str(np.round(cm[i, i] / sum(cm[i, :]), 2))\n",
    "        for i in np.arange(cm.shape[0])\n",
    "    ]))"
   ]
  },
  {
   "cell_type": "code",
   "execution_count": null,
   "metadata": {
    "ExecuteTime": {
     "end_time": "2020-06-12T06:16:08.144438Z",
     "start_time": "2020-06-12T06:16:08.115613Z"
    }
   },
   "outputs": [],
   "source": [
    "y_valid_dums = pd.get_dummies(y_valid)\n",
    "y_test_dums = pd.get_dummies(y_test)\n",
    "y_pred_test_dums = pd.get_dummies(y_pred_test)\n",
    "y_pred_valid_dums = pd.get_dummies(y_pred_valid)"
   ]
  },
  {
   "cell_type": "code",
   "execution_count": null,
   "metadata": {
    "ExecuteTime": {
     "end_time": "2020-06-12T13:47:58.856809Z",
     "start_time": "2020-06-12T13:47:58.839213Z"
    }
   },
   "outputs": [],
   "source": [
    "print('\\t\\tAUC')\n",
    "for mood in ['Negative']:\n",
    "    print(' ')\n",
    "    fpr, tpr, thresholds = sklearn.metrics.roc_curve(y_valid_dums[mood],\n",
    "                                                     y_pred_valid_dums[mood],\n",
    "                                                     pos_label=1)\n",
    "    print(mood, 'test:\\t', np.round(sklearn.metrics.auc(fpr, tpr), 3), sep=' ')"
   ]
  },
  {
   "cell_type": "code",
   "execution_count": null,
   "metadata": {},
   "outputs": [],
   "source": []
  },
  {
   "cell_type": "code",
   "execution_count": null,
   "metadata": {
    "ExecuteTime": {
     "end_time": "2020-06-12T03:12:00.128551Z",
     "start_time": "2020-06-12T03:11:59.810952Z"
    }
   },
   "outputs": [],
   "source": [
    "(pd.Series(reg_rf_twoC.feature_importances_,\n",
    "           index=X.columns).nlargest(10).plot(kind='barh'))"
   ]
  },
  {
   "cell_type": "code",
   "execution_count": null,
   "metadata": {
    "ExecuteTime": {
     "end_time": "2020-06-12T03:11:57.134036Z",
     "start_time": "2020-06-12T03:11:56.869540Z"
    },
    "scrolled": false
   },
   "outputs": [],
   "source": [
    "(pd.Series(reg_rf.feature_importances_,\n",
    "           index=X.columns).nlargest(10).plot(kind='barh'))"
   ]
  },
  {
   "cell_type": "markdown",
   "metadata": {},
   "source": [
    "# Multi-label Prediction: CNN"
   ]
  },
  {
   "cell_type": "code",
   "execution_count": null,
   "metadata": {
    "ExecuteTime": {
     "end_time": "2020-06-12T06:33:28.350140Z",
     "start_time": "2020-06-12T06:33:28.329797Z"
    }
   },
   "outputs": [],
   "source": []
  },
  {
   "cell_type": "code",
   "execution_count": null,
   "metadata": {
    "ExecuteTime": {
     "end_time": "2020-06-12T06:40:10.466729Z",
     "start_time": "2020-06-12T06:33:45.508599Z"
    }
   },
   "outputs": [],
   "source": [
    "# #Create input array for training data\n",
    "# keep_frames = 125\n",
    "# input_arr = np.zeros((8882, 56, keep_frames))\n",
    "# i = 0\n",
    "# fnames = []\n",
    "# for index, row in training_df.iterrows():\n",
    "#     fnames += [row['feature_filename']]\n",
    "#     recordingname = row['directory'] + row['feature_filename']\n",
    "#     x = np.loadtxt(recordingname, delimiter=',')\n",
    "#     if x.shape[1] < keep_frames:\n",
    "#         input_arr[i, :, :x.shape[1]] = x\n",
    "#     elif x.shape[1] >= keep_frames:\n",
    "#         input_arr[i, :, :] = x[:, :keep_frames]\n",
    "#     i += 1"
   ]
  },
  {
   "cell_type": "code",
   "execution_count": null,
   "metadata": {
    "ExecuteTime": {
     "end_time": "2020-06-12T06:44:17.887762Z",
     "start_time": "2020-06-12T06:44:16.680368Z"
    }
   },
   "outputs": [],
   "source": [
    "model = Sequential()\n",
    "model.add(Conv2D(8, (13, 13), input_shape=(56, keep_frames, 1)))\n",
    "model.add(BatchNormalization(axis=-1))\n",
    "model.add(Activation('relu'))\n",
    "model.add(Conv2D(8, (13, 13)))\n",
    "model.add(BatchNormalization(axis=-1))\n",
    "model.add(Activation('relu'))\n",
    "model.add(MaxPooling2D(pool_size=(2, 1)))\n",
    "model.add(Conv2D(8, (3, 3)))\n",
    "model.add(BatchNormalization(axis=-1))\n",
    "model.add(Activation('relu'))\n",
    "model.add(Conv2D(8, (1, 1)))\n",
    "model.add(BatchNormalization(axis=-1))\n",
    "model.add(Activation('relu'))\n",
    "model.add(MaxPooling2D(pool_size=(2, 1)))\n",
    "model.add(Flatten())\n",
    "model.add(Dense(64))\n",
    "model.add(BatchNormalization())\n",
    "model.add(Activation('relu'))\n",
    "model.add(Dropout(0.2))\n",
    "model.add(Dense(2, activation='softmax'))\n",
    "model.compile(loss='binary_crossentropy',\n",
    "              optimizer='adam',\n",
    "              metrics=['accuracy'])\n",
    "print(model.summary(), file=sys.stderr)"
   ]
  },
  {
   "cell_type": "code",
   "execution_count": null,
   "metadata": {
    "ExecuteTime": {
     "end_time": "2020-06-12T06:44:19.355657Z",
     "start_time": "2020-06-12T06:44:17.961365Z"
    }
   },
   "outputs": [],
   "source": [
    "X_train = input_arr[train_indices, :, :]\n",
    "X_test = input_arr[test_indices, :, :]\n",
    "X_valid = input_arr[valid_indices, :, :]"
   ]
  },
  {
   "cell_type": "code",
   "execution_count": null,
   "metadata": {
    "ExecuteTime": {
     "end_time": "2020-06-12T06:44:19.393778Z",
     "start_time": "2020-06-12T06:44:19.380010Z"
    }
   },
   "outputs": [],
   "source": [
    "y_train_dums = np.array(pd.get_dummies(y_train))"
   ]
  },
  {
   "cell_type": "code",
   "execution_count": null,
   "metadata": {
    "ExecuteTime": {
     "end_time": "2020-06-12T06:44:19.413735Z",
     "start_time": "2020-06-12T06:44:19.405137Z"
    }
   },
   "outputs": [],
   "source": [
    "X_train = X_train.reshape(X_train.shape[0], 56, keep_frames, 1)\n",
    "X_test = X_test.reshape(X_test.shape[0], 56, keep_frames, 1)\n",
    "X_valid = X_valid.reshape(X_valid.shape[0], 56, keep_frames, 1)"
   ]
  },
  {
   "cell_type": "code",
   "execution_count": null,
   "metadata": {
    "ExecuteTime": {
     "end_time": "2020-06-12T07:40:01.484841Z",
     "start_time": "2020-06-12T06:44:19.420850Z"
    }
   },
   "outputs": [],
   "source": [
    "model.fit(X_train,\n",
    "          y_train_dums,\n",
    "          batch_size=100,\n",
    "          epochs=10,\n",
    "          verbose=1,\n",
    "          validation_data=(X_test, y_test_dums))"
   ]
  },
  {
   "cell_type": "code",
   "execution_count": null,
   "metadata": {
    "ExecuteTime": {
     "end_time": "2020-06-12T13:35:28.546669Z",
     "start_time": "2020-06-12T13:35:23.939352Z"
    }
   },
   "outputs": [],
   "source": [
    "y_pred_test = model.predict(X_test)\n",
    "y_pred_valid = model.predict(X_valid)"
   ]
  },
  {
   "cell_type": "code",
   "execution_count": null,
   "metadata": {
    "ExecuteTime": {
     "end_time": "2020-06-12T13:35:41.565346Z",
     "start_time": "2020-06-12T13:35:41.514605Z"
    }
   },
   "outputs": [],
   "source": []
  },
  {
   "cell_type": "code",
   "execution_count": null,
   "metadata": {
    "ExecuteTime": {
     "end_time": "2020-06-12T13:38:22.537217Z",
     "start_time": "2020-06-12T13:38:22.473659Z"
    }
   },
   "outputs": [],
   "source": [
    "precision, tpr, accuracy, auc = get_precision(np.round(y_pred_valid),\n",
    "                                              np.array(y_valid_dums))\n",
    "print('Precision', precision, '\\nTruePosRt', tpr, '\\nAccuracy', accuracy,\n",
    "      '\\nAUC', auc)"
   ]
  },
  {
   "cell_type": "code",
   "execution_count": null,
   "metadata": {
    "ExecuteTime": {
     "end_time": "2020-06-12T13:53:43.203001Z",
     "start_time": "2020-06-12T13:53:43.195842Z"
    }
   },
   "outputs": [],
   "source": [
    "X_train.shape"
   ]
  },
  {
   "cell_type": "markdown",
   "metadata": {},
   "source": [
    "# Maslo Predictions"
   ]
  },
  {
   "cell_type": "code",
   "execution_count": null,
   "metadata": {
    "ExecuteTime": {
     "end_time": "2020-06-14T01:22:40.619345Z",
     "start_time": "2020-06-14T01:22:40.030294Z"
    }
   },
   "outputs": [],
   "source": [
    "journals_merged = pd.read_csv('../data/journals_merged.csv')"
   ]
  },
  {
   "cell_type": "code",
   "execution_count": null,
   "metadata": {
    "ExecuteTime": {
     "end_time": "2020-06-14T01:22:40.786965Z",
     "start_time": "2020-06-14T01:22:40.626360Z"
    }
   },
   "outputs": [],
   "source": [
    "X = journals_merged.drop(\n",
    "    columns=['sentiment', 'recordingname', 'feature_filename', 'journal'])\n",
    "sentiment = journals_merged['sentiment']"
   ]
  },
  {
   "cell_type": "code",
   "execution_count": null,
   "metadata": {
    "ExecuteTime": {
     "end_time": "2020-06-14T01:22:40.858733Z",
     "start_time": "2020-06-14T01:22:40.804574Z"
    }
   },
   "outputs": [],
   "source": [
    "maslo_rftwoC_predictions = reg_rf_twoC.predict(X)\n",
    "maslo_rf_predictions = reg_rf.predict(X)"
   ]
  },
  {
   "cell_type": "code",
   "execution_count": null,
   "metadata": {
    "ExecuteTime": {
     "end_time": "2020-06-14T01:22:40.871860Z",
     "start_time": "2020-06-14T01:22:40.645Z"
    }
   },
   "outputs": [],
   "source": [
    "maslo_rf_predictions[-5:]"
   ]
  },
  {
   "cell_type": "code",
   "execution_count": null,
   "metadata": {
    "ExecuteTime": {
     "end_time": "2020-06-12T02:56:58.805309Z",
     "start_time": "2020-06-12T02:56:58.787027Z"
    }
   },
   "outputs": [],
   "source": [
    "maslo_rftwoC_predictions[-5:]"
   ]
  },
  {
   "cell_type": "code",
   "execution_count": null,
   "metadata": {
    "ExecuteTime": {
     "end_time": "2020-06-12T03:14:55.267599Z",
     "start_time": "2020-06-12T03:14:54.922421Z"
    },
    "scrolled": false
   },
   "outputs": [],
   "source": [
    "sns.boxplot(x=maslo_rf_predictions, y=sentiment)"
   ]
  },
  {
   "cell_type": "code",
   "execution_count": null,
   "metadata": {
    "ExecuteTime": {
     "end_time": "2020-06-12T03:15:17.535581Z",
     "start_time": "2020-06-12T03:15:17.316775Z"
    }
   },
   "outputs": [],
   "source": [
    "sns.boxplot(x=maslo_rftwoC_predictions, y=sentiment)"
   ]
  },
  {
   "cell_type": "code",
   "execution_count": null,
   "metadata": {
    "ExecuteTime": {
     "end_time": "2020-06-12T03:31:59.527275Z",
     "start_time": "2020-06-12T03:31:59.504169Z"
    }
   },
   "outputs": [],
   "source": [
    "journals_merged['maslo_rftwoC'] = maslo_rftwoC_predictions\n",
    "journals_merged['maslo_rf'] = maslo_rf_predictions"
   ]
  },
  {
   "cell_type": "code",
   "execution_count": null,
   "metadata": {
    "ExecuteTime": {
     "end_time": "2020-06-12T13:57:05.215038Z",
     "start_time": "2020-06-12T13:57:05.206320Z"
    }
   },
   "outputs": [],
   "source": [
    "7282 / (7282 + 770 + 748)"
   ]
  },
  {
   "cell_type": "code",
   "execution_count": null,
   "metadata": {
    "ExecuteTime": {
     "end_time": "2020-06-14T01:22:46.659562Z",
     "start_time": "2020-06-14T01:22:46.543845Z"
    }
   },
   "outputs": [],
   "source": [
    "journals_merged"
   ]
  },
  {
   "cell_type": "code",
   "execution_count": 15,
   "metadata": {
    "ExecuteTime": {
     "end_time": "2020-06-16T03:13:18.262808Z",
     "start_time": "2020-06-16T03:13:18.258334Z"
    }
   },
   "outputs": [],
   "source": [
    "import sys"
   ]
  },
  {
   "cell_type": "code",
   "execution_count": 19,
   "metadata": {
    "ExecuteTime": {
     "end_time": "2020-06-16T03:14:10.504831Z",
     "start_time": "2020-06-16T03:14:10.254382Z"
    }
   },
   "outputs": [
    {
     "name": "stdout",
     "output_type": "stream",
     "text": [
      "Python 3.7.7\r\n"
     ]
    }
   ],
   "source": [
    "!python --version"
   ]
  },
  {
   "cell_type": "code",
   "execution_count": null,
   "metadata": {},
   "outputs": [],
   "source": [
    "journals_metadata = pd.read_csv('../data/all_journals.csv')\n",
    "journals_metadata = journals_metadata[journals_metadata.word_len>=50]\n",
    "\n",
    "# journals = os.listdir('~/Desktop/catchingfeels/test_features/')\n",
    "mean_arr = np.zeros(56)\n",
    "median_arr = np.zeros(56)\n",
    "max_arr = np.zeros(56)\n",
    "min_arr = np.zeros(56)\n",
    "var_arr = np.zeros(56)\n",
    "fnames = []\n",
    "for i in journals_metadata['recordingname']:\n",
    "    try:\n",
    "        fnames +=[i]\n",
    "        recordingname = '/Users/afrah/Desktop/catchingfeels/test_features/subfeatures_'+i+'.csv.gz'\n",
    "        x = np.loadtxt(recordingname, delimiter=',')\n",
    "        mean_arr = np.vstack([mean_arr, np.mean(x, axis=1)])\n",
    "        median_arr = np.vstack([median_arr, np.median(x, axis=1)])\n",
    "        min_arr = np.vstack([min_arr, np.min(x, axis=1)])\n",
    "        max_arr = np.vstack([max_arr, np.max(x, axis=1)])\n",
    "        var_arr = np.vstack([var_arr, np.var(x, axis=1)])\n",
    "    except:\n",
    "        print(i)\n",
    "mean_arr = mean_arr[1:, :]\n",
    "median_arr = median_arr[1:, :]\n",
    "min_arr = min_arr[1:, :]\n",
    "max_arr = max_arr[1:, :]\n",
    "var_arr = var_arr[1:, :]\n",
    "journals_df = pd.DataFrame(\n",
    "    np.hstack([mean_arr, median_arr, min_arr, max_arr, var_arr]))\n",
    "journals_df.columns = all_feature_names\n",
    "journals_df['feature_filename'] = fnames\n",
    "# fnames.pop(fnames.index('48353f57-546f-4ced-b1a1-d6f8f20fe92f'))\n",
    "journals_merged = journals_df.merge(journals_metadata[['sentiment', 'recordingname','journal']],\n",
    "                  left_on='feature_filename',\n",
    "                  right_on='recordingname')\n",
    "X = journals_merged.drop(columns=['sentiment','recordingname','feature_filename','journal'])\n",
    "sentiment = journals_merged['sentiment']\n",
    "#Creating array data for maslo\n",
    "keep_frames = 125\n",
    "input_arr = np.zeros((X.shape[0], 56, keep_frames))\n",
    "i = 0\n",
    "fnames = []\n",
    "for index, row in journals_df.iterrows():\n",
    "    fnames += [row['feature_filename']]\n",
    "    recordingname = '/Users/afrah/Desktop/catchingfeels/test_features/subfeatures_' + row['feature_filename']+'.csv.gz'\n",
    "    x = np.loadtxt(recordingname, delimiter=',')\n",
    "    if x.shape[1] < keep_frames:\n",
    "        input_arr[i, :, :x.shape[1]] = x\n",
    "    elif x.shape[1] >= keep_frames:\n",
    "        input_arr[i, :, :] = x[:, :keep_frames]\n",
    "    i += 1\n",
    "input_array_maslo = input_arr'"
   ]
  }
 ],
 "metadata": {
  "kernelspec": {
   "display_name": "Python 3",
   "language": "python",
   "name": "python3"
  },
  "language_info": {
   "codemirror_mode": {
    "name": "ipython",
    "version": 3
   },
   "file_extension": ".py",
   "mimetype": "text/x-python",
   "name": "python",
   "nbconvert_exporter": "python",
   "pygments_lexer": "ipython3",
   "version": "3.7.7"
  },
  "notify_time": "5",
  "toc": {
   "base_numbering": 1,
   "nav_menu": {},
   "number_sections": true,
   "sideBar": true,
   "skip_h1_title": false,
   "title_cell": "Table of Contents",
   "title_sidebar": "Contents",
   "toc_cell": false,
   "toc_position": {},
   "toc_section_display": true,
   "toc_window_display": true
  }
 },
 "nbformat": 4,
 "nbformat_minor": 4
}
